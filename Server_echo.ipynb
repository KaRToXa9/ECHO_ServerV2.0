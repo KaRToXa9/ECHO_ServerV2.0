{
 "cells": [
  {
   "cell_type": "code",
   "execution_count": 1,
   "id": "aa00c32a",
   "metadata": {},
   "outputs": [],
   "source": [
    "import socket"
   ]
  },
  {
   "cell_type": "code",
   "execution_count": 3,
   "id": "65a7faf8",
   "metadata": {},
   "outputs": [
    {
     "name": "stdout",
     "output_type": "stream",
     "text": [
      "Запуск сервера\n",
      "Подключение клиента :  ('127.0.0.1', 5842)\n",
      "Получение данных от клиента : Привет\n",
      "Как дела\n",
      "Получение данных от клиента : Как дела\n",
      "Закрыит\n",
      "Получение данных от клиента : \n",
      "Закрыть\n",
      "Остановка сервера\n",
      "Закрыть сервер\n"
     ]
    }
   ],
   "source": [
    "sock = socket.socket()\n",
    "sock.bind(('',9090))\n",
    "print('Запуск сервера')\n",
    "sock.listen(1)\n",
    "conn, addr = sock.accept()\n",
    "print (\"Подключение клиента : \",addr)\n",
    "msg = ''\n",
    "while True:\n",
    "    data = conn.recv(2048)\n",
    "    msg = data.decode()\n",
    "    print('Получение данных от клиента :', msg)\n",
    "    conn.send(bytes(input(),'UTF-8'))\n",
    "    if msg == '':\n",
    "        sock.close()\n",
    "        print(\"Остановка сервера\")\n",
    "        break\n",
    "msg1 = input()\n",
    "#while True:\n",
    "    #msg1 = input()\n",
    "    #c, addr = sock.accept()\n",
    "    #c.send(msg)\n",
    "#print('Сообщение от клиента :', msg)\n",
    "conn.close()"
   ]
  },
  {
   "cell_type": "code",
   "execution_count": null,
   "id": "739eb5f6",
   "metadata": {},
   "outputs": [],
   "source": []
  },
  {
   "cell_type": "code",
   "execution_count": null,
   "id": "8d82ba8e",
   "metadata": {},
   "outputs": [],
   "source": []
  }
 ],
 "metadata": {
  "kernelspec": {
   "display_name": "Python 3",
   "language": "python",
   "name": "python3"
  },
  "language_info": {
   "codemirror_mode": {
    "name": "ipython",
    "version": 3
   },
   "file_extension": ".py",
   "mimetype": "text/x-python",
   "name": "python",
   "nbconvert_exporter": "python",
   "pygments_lexer": "ipython3",
   "version": "3.8.8"
  }
 },
 "nbformat": 4,
 "nbformat_minor": 5
}
