{
 "cells": [
  {
   "cell_type": "code",
   "execution_count": 11,
   "id": "93b3d221",
   "metadata": {},
   "outputs": [],
   "source": [
    "import socket"
   ]
  },
  {
   "cell_type": "code",
   "execution_count": 14,
   "id": "803d5933",
   "metadata": {},
   "outputs": [
    {
     "name": "stdout",
     "output_type": "stream",
     "text": [
      "Установлено соединение с сервером\n",
      "Привет\n",
      "Отправлено: Привет\n",
      "Как дела\n",
      "Отправлено: Как дела\n",
      "Закрыть соединение\n",
      "Соединение принудительно завершено\n"
     ]
    },
    {
     "ename": "OSError",
     "evalue": "[WinError 10038] Сделана попытка выполнить операцию на объекте, не являющемся сокетом",
     "output_type": "error",
     "traceback": [
      "\u001b[1;31m---------------------------------------------------------------------------\u001b[0m",
      "\u001b[1;31mOSError\u001b[0m                                   Traceback (most recent call last)",
      "\u001b[1;32m<ipython-input-14-b0d6b9ca0d97>\u001b[0m in \u001b[0;36m<module>\u001b[1;34m\u001b[0m\n\u001b[0;32m     10\u001b[0m         \u001b[0msock\u001b[0m\u001b[1;33m.\u001b[0m\u001b[0msendall\u001b[0m\u001b[1;33m(\u001b[0m\u001b[0mbytes\u001b[0m\u001b[1;33m(\u001b[0m\u001b[0mout_data\u001b[0m\u001b[1;33m,\u001b[0m\u001b[1;34m'UTF-8'\u001b[0m\u001b[1;33m)\u001b[0m\u001b[1;33m)\u001b[0m\u001b[1;33m\u001b[0m\u001b[1;33m\u001b[0m\u001b[0m\n\u001b[0;32m     11\u001b[0m         \u001b[0mprint\u001b[0m\u001b[1;33m(\u001b[0m\u001b[1;34m\"Отправлено: \"\u001b[0m \u001b[1;33m+\u001b[0m \u001b[0mstr\u001b[0m\u001b[1;33m(\u001b[0m\u001b[0mout_data\u001b[0m\u001b[1;33m)\u001b[0m\u001b[1;33m)\u001b[0m\u001b[1;33m\u001b[0m\u001b[1;33m\u001b[0m\u001b[0m\n\u001b[1;32m---> 12\u001b[1;33m     \u001b[0min_data\u001b[0m \u001b[1;33m=\u001b[0m  \u001b[0msock\u001b[0m\u001b[1;33m.\u001b[0m\u001b[0mrecv\u001b[0m\u001b[1;33m(\u001b[0m\u001b[1;36m2048\u001b[0m\u001b[1;33m)\u001b[0m\u001b[1;33m\u001b[0m\u001b[1;33m\u001b[0m\u001b[0m\n\u001b[0m\u001b[0;32m     13\u001b[0m    \u001b[1;31m# in_data =  sock.recv(2048)\u001b[0m\u001b[1;33m\u001b[0m\u001b[1;33m\u001b[0m\u001b[1;33m\u001b[0m\u001b[0m\n\u001b[0;32m     14\u001b[0m     \u001b[1;31m#if in_data == '':\u001b[0m\u001b[1;33m\u001b[0m\u001b[1;33m\u001b[0m\u001b[1;33m\u001b[0m\u001b[0m\n",
      "\u001b[1;31mOSError\u001b[0m: [WinError 10038] Сделана попытка выполнить операцию на объекте, не являющемся сокетом"
     ]
    }
   ],
   "source": [
    "sock = socket.socket()\n",
    "sock.connect(('localhost', 9090))\n",
    "print('Установлено соединение с сервером')\n",
    "while True:\n",
    "    out_data = input()\n",
    "    if out_data == 'Закрыть соединение':\n",
    "        sock.close()\n",
    "        print('Соединение принудительно завершено')\n",
    "    else:\n",
    "        sock.sendall(bytes(out_data,'UTF-8'))\n",
    "        print(\"Отправлено: \" + str(out_data))\n",
    "    in_data =  sock.recv(2048)\n",
    "   # in_data =  sock.recv(2048)\n",
    "    #if in_data == '':\n",
    "    #    print('Данных от сервера не получено')\n",
    "    #print(\"Прием данных от сервера :\" ,in_data.decode())    \n"
   ]
  },
  {
   "cell_type": "code",
   "execution_count": null,
   "id": "6fe3d391",
   "metadata": {},
   "outputs": [],
   "source": []
  }
 ],
 "metadata": {
  "kernelspec": {
   "display_name": "Python 3",
   "language": "python",
   "name": "python3"
  },
  "language_info": {
   "codemirror_mode": {
    "name": "ipython",
    "version": 3
   },
   "file_extension": ".py",
   "mimetype": "text/x-python",
   "name": "python",
   "nbconvert_exporter": "python",
   "pygments_lexer": "ipython3",
   "version": "3.8.8"
  }
 },
 "nbformat": 4,
 "nbformat_minor": 5
}
